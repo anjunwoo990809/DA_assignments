{
 "cells": [
  {
   "cell_type": "code",
   "execution_count": 7,
   "id": "9a3416c9",
   "metadata": {
    "canvas": {
     "comments": [],
     "componentType": "CodeCell",
     "copiedOriginId": null,
     "diskcache": false,
     "headerColor": "none",
     "id": "85eed768-8f93-4a44-b58d-0be8be4461f3",
     "isComponent": false,
     "name": "",
     "parents": []
    },
    "id": "9a3416c9"
   },
   "outputs": [
    {
     "data": {
      "text/html": [
       "<div>\n",
       "<style scoped>\n",
       "    .dataframe tbody tr th:only-of-type {\n",
       "        vertical-align: middle;\n",
       "    }\n",
       "\n",
       "    .dataframe tbody tr th {\n",
       "        vertical-align: top;\n",
       "    }\n",
       "\n",
       "    .dataframe thead th {\n",
       "        text-align: right;\n",
       "    }\n",
       "</style>\n",
       "<table border=\"1\" class=\"dataframe\">\n",
       "  <thead>\n",
       "    <tr style=\"text-align: right;\">\n",
       "      <th></th>\n",
       "      <th>헤어진결심 리뷰</th>\n",
       "    </tr>\n",
       "  </thead>\n",
       "  <tbody>\n",
       "    <tr>\n",
       "      <th>0</th>\n",
       "      <td>영화를 재밌게봐서 각본도 구매했는데 영화에 대한 마음도 더 커지고 글로 내용을 보니...</td>\n",
       "    </tr>\n",
       "    <tr>\n",
       "      <th>1</th>\n",
       "      <td>최고의 작품을 볼 수 있어서 행복했고 동시에 그리웠었는데 이제 언제든 꺼내 기억할 ...</td>\n",
       "    </tr>\n",
       "    <tr>\n",
       "      <th>2</th>\n",
       "      <td>헤결을 왜 좋아하는지 말하면 내내 그 생각만 할까봐서요?-박찬욱 감독님 영화는 헤어...</td>\n",
       "    </tr>\n",
       "    <tr>\n",
       "      <th>3</th>\n",
       "      <td>평소 각본집을 보는 일이 거의 없는데 영화에 대한 인상이 너무 깊어서인지 손이 가게...</td>\n",
       "    </tr>\n",
       "    <tr>\n",
       "      <th>4</th>\n",
       "      <td>영화 헤어질 결심의 각본집을 홀린듯이 주문했어요.왜 이 영화가 이렇게 좋을까 계속 ...</td>\n",
       "    </tr>\n",
       "    <tr>\n",
       "      <th>...</th>\n",
       "      <td>...</td>\n",
       "    </tr>\n",
       "    <tr>\n",
       "      <th>59</th>\n",
       "      <td>헤어질 결심 각본집 정말 오랫동안 기다렸는데 받자마자 너무 설레서 바로 봤어요 책 ...</td>\n",
       "    </tr>\n",
       "    <tr>\n",
       "      <th>60</th>\n",
       "      <td>영화 헤어질 결심의 각본입니다. 영화에서 보지 못했던 장면을 활자로 보게 되어 다행...</td>\n",
       "    </tr>\n",
       "    <tr>\n",
       "      <th>61</th>\n",
       "      <td>박찬욱 감독 작품 중에서 가장 문학적이라고 느껴졌던 영화였기에 영화를 보자마자 각본...</td>\n",
       "    </tr>\n",
       "    <tr>\n",
       "      <th>62</th>\n",
       "      <td>오늘도 헤결 n회차, 배우들의 연기가 아닌 오롯이 저의 상상으로 필름화한다는 것이 ...</td>\n",
       "    </tr>\n",
       "    <tr>\n",
       "      <th>63</th>\n",
       "      <td>헤어질 결심 각본 영화를 너무 재미있게 봐서 각본 도서까지 구매하게 되었습니다. 박...</td>\n",
       "    </tr>\n",
       "  </tbody>\n",
       "</table>\n",
       "<p>64 rows × 1 columns</p>\n",
       "</div>"
      ],
      "text/plain": [
       "                                             헤어진결심 리뷰\n",
       "0   영화를 재밌게봐서 각본도 구매했는데 영화에 대한 마음도 더 커지고 글로 내용을 보니...\n",
       "1   최고의 작품을 볼 수 있어서 행복했고 동시에 그리웠었는데 이제 언제든 꺼내 기억할 ...\n",
       "2   헤결을 왜 좋아하는지 말하면 내내 그 생각만 할까봐서요?-박찬욱 감독님 영화는 헤어...\n",
       "3   평소 각본집을 보는 일이 거의 없는데 영화에 대한 인상이 너무 깊어서인지 손이 가게...\n",
       "4   영화 헤어질 결심의 각본집을 홀린듯이 주문했어요.왜 이 영화가 이렇게 좋을까 계속 ...\n",
       "..                                                ...\n",
       "59  헤어질 결심 각본집 정말 오랫동안 기다렸는데 받자마자 너무 설레서 바로 봤어요 책 ...\n",
       "60  영화 헤어질 결심의 각본입니다. 영화에서 보지 못했던 장면을 활자로 보게 되어 다행...\n",
       "61  박찬욱 감독 작품 중에서 가장 문학적이라고 느껴졌던 영화였기에 영화를 보자마자 각본...\n",
       "62  오늘도 헤결 n회차, 배우들의 연기가 아닌 오롯이 저의 상상으로 필름화한다는 것이 ...\n",
       "63  헤어질 결심 각본 영화를 너무 재미있게 봐서 각본 도서까지 구매하게 되었습니다. 박...\n",
       "\n",
       "[64 rows x 1 columns]"
      ]
     },
     "metadata": {},
     "output_type": "display_data"
    }
   ],
   "source": [
    "import requests\n",
    "from bs4 import BeautifulSoup\n",
    "import re\n",
    "import pandas as pd\n",
    "end = 1000\n",
    "data = []\n",
    "for i in range(1,end+1):\n",
    "    # i = 1\n",
    "    url = f'http://www.yes24.com/Product/communityModules/GoodsReviewList/110791050?Sort=1&PageNumber={i}&Type=ALL'\n",
    "    r1 = requests.get(url)\n",
    "    soup_best_seller = BeautifulSoup(r1.text, 'lxml')\n",
    "    contexts = soup_best_seller.find_all('div', class_ = 'reviewInfoGrp')\n",
    "    if contexts == []:\n",
    "        break\n",
    "    for j in range(5):\n",
    "        try:\n",
    "            singe_review = contexts[j].find_all('div', class_ = 'review_cont')[-1].get_text()\n",
    "            singe_review = re.sub('\\\\r', ' ', str(singe_review))\n",
    "            singe_review = re.sub('\\\\n', ' ', str(singe_review))\n",
    "            singe_review = re.sub(' +', ' ', str(singe_review))\n",
    "            singe_review = singe_review.strip()\n",
    "            data.append(singe_review)\n",
    "        except:\n",
    "            break\n",
    "df = pd.DataFrame(data, columns = ['헤어진결심 리뷰'])\n",
    "df.to_excel('book_review.xlsx', index=False)\n",
    "display(df)"
   ]
  },
  {
   "cell_type": "code",
   "execution_count": 44,
   "id": "aeed5fc6",
   "metadata": {},
   "outputs": [],
   "source": []
  }
 ],
 "metadata": {
  "canvas": {
   "colorPalette": [
    "inherit",
    "inherit",
    "inherit",
    "inherit",
    "inherit",
    "inherit",
    "inherit",
    "inherit",
    "inherit",
    "inherit"
   ],
   "parameters": []
  },
  "colab": {
   "provenance": []
  },
  "kernelspec": {
   "display_name": "Python 3 (ipykernel)",
   "language": "python",
   "name": "python3"
  },
  "language_info": {
   "codemirror_mode": {
    "name": "ipython",
    "version": 3
   },
   "file_extension": ".py",
   "mimetype": "text/x-python",
   "name": "python",
   "nbconvert_exporter": "python",
   "pygments_lexer": "ipython3",
   "version": "3.9.12"
  }
 },
 "nbformat": 4,
 "nbformat_minor": 5
}
