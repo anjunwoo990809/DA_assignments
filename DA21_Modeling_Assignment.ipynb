{
  "nbformat": 4,
  "nbformat_minor": 0,
  "metadata": {
    "colab": {
      "provenance": [],
      "collapsed_sections": [],
      "toc_visible": true
    },
    "kernelspec": {
      "name": "python3",
      "display_name": "Python 3"
    },
    "language_info": {
      "name": "python"
    }
  },
  "cells": [
    {
      "cell_type": "code",
      "source": [
        "from google.colab import drive\n",
        "drive.mount('/content/drive')"
      ],
      "metadata": {
        "colab": {
          "base_uri": "https://localhost:8080/"
        },
        "id": "-AFUeYWLd9qf",
        "outputId": "d77f3dfe-9eac-4c60-b18b-d747309e2f80"
      },
      "execution_count": 1,
      "outputs": [
        {
          "output_type": "stream",
          "name": "stdout",
          "text": [
            "Mounted at /content/drive\n"
          ]
        }
      ]
    },
    {
      "cell_type": "markdown",
      "source": [
        "# 공통과제\n",
        "\n",
        "## Part1, Part2 에서 사용한 모델의 특징 및 사용한 파라미터에 대한 설명"
      ],
      "metadata": {
        "id": "4UIiCdjneCBD"
      }
    },
    {
      "cell_type": "markdown",
      "source": [
        "## Part1에서 사용한 모델의 특징 및 파라미터\n",
        "\n",
        "### 통계\n",
        "\n",
        "- Sample : 표본집단\n",
        "- Population : 모집단\n",
        "  - 표본집단은 모집단의 특징(모수; 평균, 표준편차 등...)을 대표하는 추출된 집단으로, 모집단의 규모가 너무 크거나 비용적인 한계로 인해 모집단에서 실험이나 분석을 진행하기 어려울 때 표본집단 단위에서 테스트 혹은 분석을 진행해볼 수 있다.\n",
        "  - 또한 모집단 내에서 여러 번의 추출을 통해 여러 개의 표본들을 생성할 수 있는데 이 때 각 표본을 구성하는 값들에 대한 평균과 표준편차를 추가로 계산할 수 있다.\n",
        "\n",
        "- Median : 중위수, 전체 Data 값의 Distribution의 50% percentile에 해당하는 값\n",
        "  - 평균(mean;average) 및 최빈값(mode)과 함께 자료의 특성을 파악하는 용도로 사용되며, Skewedness 등 분포의 치우침이 존재하는 경우 평균이나 최빈값과 차이가 존재할 수 있다. 정규분포상에서는 이 세 개의 수가 모두 동일한 값을 갖는다.\n",
        "\n",
        "- Variance : 분산, 편차제곱의 평균\n",
        "- Standard Deviation : 표준편차\n",
        "  - 분산과 표준편차는 특정한 값들이 산포한 정도를 나타내는 지표값으로 표준편차는 계산된 분산의 양의 제곱근으로 정의되는 관계를 지니고 있다. 같은 의미이지만 표준편차를 활용하는 이유로는 분산의 경우 기존 값에 대한 단위 정보가 제곱을 통해 왜곡된 형태이므로 양의 제곱근을 씌운 표준편차를 사용하여 원래 자료의 단위와 동일한 수준에서 산포도를 표현할 수 있다.\n",
        "\n",
        "- Standard Error : 표준오차, 오차제곱의 평균에대한 양의 제곱근\n",
        "  - 앞서 모집단에서 추추출된 하나의 표본의 관점에서 해당 표본을 구성하는 값들로부터 구해진 표본 내의 평균과 표본 내의 표준편차가 존재하게 되는데, 이들 중 표본평균의 평균은 모평균과 같은 값을 가지게 되고, 표본평균의 분산은 모분산에 자료의 크기를 나눈값이 되게 되는데 이 표본평균의 분산의 양의제곱근으로 정의되는 표준편차를 \"표준오차(Standard Error)\"라고 부른다.\n",
        "\n",
        "- 공분산과 상관관계는 공통적으로 어떠한 두 변수의 relationship과 dependency를 확인할 때 확인하는 지표이다.\n",
        "[두 지표의 차이점 정리](https://builtin.com/data-science/covariance-vs-correlation)\n",
        "- Covariance : 공분산\n",
        "  - 어떠한 두 변수 사이에 선형적인 방향 관계가 있는 지를 나타낸다.\n",
        "  - Covariance의 값들은 표준화되지 않은 상태의 값이다.\n",
        "- Correlation : 상관관계\n",
        "  - 어떠한 두 변수 사이에 선형적인 관계의 크기와 방향 정보를 모두 표현한다.\n",
        "  - 또한 Correlation의 값들은 -1과 +1 사이의 값으로 표준화되어 있다.\n",
        "\n",
        "- Quantile\n",
        "  - dataset을 같은 크기의 group들로 나누게 하는 경계값들\n",
        "  - dataset을 N개의 equal-size group들로 나누고자 한다면 (N-1)개의 quantile값들이 필요함.\n",
        "\n",
        "cf) median은 2-quantile이고, quartiles는 4-quantile에 해당한다.\n",
        "\n",
        "- Percentile\n",
        "  - Quantile의 N = 100인 특수한 경우\n",
        "\n",
        "- Distribution\n",
        "  - 어떠한 값들이 분포해 있는 형태\n",
        "  - 통계적 기법들은 정규분포의 형태를 가정하는 경우가 많음.\n",
        "\n",
        "- Degrees of freedom : 자유도\n",
        "  - 주어진 조건 하에서 자유롭게 변화할 수 있는 값의 개수\n",
        "  - (통계에서의 의미) 통계량 추정 시에 사용되는 데이터의 정보량에 대한 표현\n",
        "  - 가령 표본분산을 구할 때 자유도를 n-1로 표기하는 이유는 표본 내의 전체 데이터를 통해 결정된 평균값(표본평균)을 다시 표본분산을 계산하는 과정에서 사용하기 때문이다.\n",
        "  - 표본의 각 값에서 표본평균을 빼는 과정에 표본평균이 고정된값(상수)으로 존재하려면 기존의 표본을 이루는 n개의 데이터 중 n-1개의 데이터만이 자유로운 값을 가질 수 있기 때문에 이로 인하여 실제 크기 n에 비해 표본분산을 계산하는 과정에서는 1개의 데이터에 대한 정보량이 손실되어 n-1의 자유도를 갖게되는 것이다.\n",
        "  - 정리하자면 표본평균처럼 n개의 데이터가 존재할 때 가장 먼저 계산하게 되어 다른 통계량에 영향을 받지 않는 상태라면 데이터의 크기 만큼의 자유도를 갖지만, 만약 표본분산처럼 기존에 선행하는 통계량을 통해 다시 계산되는 경우 선행하는 통계량들을 특정 값으로 결정하면서 발생하는 정보의 손실을 모두 고려한 정도를 자유도에 반영하면 된다.\n",
        "\n",
        "- Regression Line(Linear Regression)\n",
        "  - 주어진 데이터들(여러 개의 Featrue로 구성된)에 대해 잔차를 최소화하는 직선을 찾는 것이다. 각 input이 되는 feature 값들 앞에 있는 계수 및 상수항을 결정하는 것이 목적이다.\n",
        "\n",
        "- Residual : 잔차\n",
        "  - (residual) = (obs) - (pred)\n",
        "  - 특정 데이터셋에서의 input feature들과 결과적으로 예측하고자 하는 target이 있을 때 Regression Line로부터 얻어진 prediction(예측값)과 observed value(실제 값)의 차이로 계산된다.\n",
        "\n",
        "- Type1 Error\n",
        "  - alpha\n",
        "  - 분석가가 결정하는 유의수준\n",
        "  - 귀무가설이 참이지만 기각될 확률\n",
        "  - False Positive\n",
        "\n",
        "- Type2 Error\n",
        "  - beta\n",
        "  - alpha와 trade-off 관계에 있음\n",
        "  - False Negative\n",
        "  - 문제가 있는데 문제를 인식하지 못할 확률\n",
        "\n",
        "- f1 score(precision, accuracy)과의 연결에 대해\n",
        "  - Positive : H0를 reject함.\n",
        "  - Negative : H0를 reject하지 못함.\n",
        "  - False : 가설 acceptance가 잘못됨.\n",
        "  \n",
        "- Confusion Matrix에서\n",
        "  - FP, FN 등의 표현을 사용하는데\n",
        "  뒤의 P, N을 먼저 확인하고 F인 경우 에러에 해당, T인 경우 정확히 분류되었다는 사고의 흐름으로 해석하면 의미를 헷갈리지 않을 수 있다.\n",
        "\n",
        "- Test Statistic : 검정 통계량\n",
        "  - Hypothesis testing에 활용되는 Sample data 내에서 계산된 Random Variable\n",
        "  - Hypothesis에서 p-value 혹은 confidence interval을 통해 null Hypothesis의 rejection을 결정 할 때 분석가가 임의로 설정한 Type1 Error alpha로 결정된 기준치에 대해 주어진 자료의 정보를 통해 계산된 Test Statistic의 값을 비교하는 데 사용된다.\n",
        "  - 가장 대표적으로 모분산이 알려져있다는 가정 하에 사용하는 Z통계량(학업 성취도 등을 평가할 때는 모집단을 모두 알고 있으므로 분산을 아는 상태라 Z값을 계산한다고 할 수 있음)과 모분산을 모르는 상태에서 쓰는 T 통계량 및 범주형 변수의 차이를 보는 Chi-squared 통계량과 ANOVA분석 혹은 Chi-squared 통계량의 비율로 정의된 경우에 사용되는 F 통계량이 존재한다.\n",
        "\n",
        "- Significance Level : 유의수준; Type1 Error와 동의어\n",
        "  - alpha가 0.05인 경우 100번의 시행 중 실제로 잘못 될 경우가 5번 정도 등장한다는 것이다. 0.01인 경우 100번 중 1번 꼴로 오류가 발생하도록 하겠다는 것이다.\n",
        "  - betha인 Type2 에러와 tradeoff 관계이므로 분석의 목적에 따라 잘 설정할 필요가 있다.\n",
        "\n",
        "- Confidence Interval\n",
        "  - 최초에 분석가에 의해 설정된 alpha라는 값을 test statistic의 distribution 기준으로 threshold가 되는 critical value를 계산하고 해당 값을 Standard Error값에 곱하여 표본평균값을 기준으로 더하고 뺀 범위 내에 형성되는 구간을 의미한다.\n",
        "\n",
        "- Hypothesis Testing\n",
        " - Null Hypothesis와 상호배타적인 Alternative Hypothesis를 설정하고, Null Hypothesis의 기각 여부를 통계적으로 결정하여 어떠한 가설을 Accept하는 것이 유의할 지를 판단하는 방법\n",
        " - 통계적으로 가설의 유의성을 검정하기 위해 Type1 error를 설정하고, 결정된 Confidence Interval에 Null Hypothesis 발생할 가능성에 대한 p-value를 고려한다. p-value가 분석가가 설정한 Type1 error인 alpha보다 작은 경우 Null Hypothesis를 reject하고, Alternative Hypothesis를 accept한다.\n",
        " - 일반적으로 어떠한 차이가 0이다와 0이 아니다로 가설을 설정하는 경우가 많은데 귀무가설의 기각을 통해 두 집단이 다름 등을 확인하는 목적으로 사용되게 된다.\n"
      ],
      "metadata": {
        "id": "deOlHQAnecJY"
      }
    },
    {
      "cell_type": "markdown",
      "source": [
        "### Logistic Regression\n",
        "\n",
        "- numerical features are used to predict binary categorical variables\n",
        "\n",
        "- **odds**\n",
        "  \n",
        "  input x가 1과 0으로 분류될 확률을 p와 (1-p)라고 할 때 (조건부 확률의 개념)\n",
        "  이를 비율로 나타낸 것을 odds라 부름.\n",
        "\n",
        "- 주요 Parameters (scikit-learn documentation)\n",
        "  - max_iter : iteration의 최대치 (default = 100)\n",
        "  - penalty : L1, L2, Elasticnet, None\n",
        "  - solver : Optimization Algorithm ('newton-cg', 'lbfgs', 'libliner', 'sag', 'saga')\n",
        "  - class_weight : 분류할 class에 부여할 가중치\n",
        "  - l1_ratio : ElasticNet의 경우 사용할 수 있는 parameter 값\n",
        "\n",
        "- penalty에 대한 추가 정리\n",
        "\n",
        "#### L1 norm\n",
        "\n",
        "L1 Regularization produces sparse models, i.e. models where unnecessary features don't contribute to their predictive power, which - as an additional benefit - may also speed up models during inference (Google Developers, n.d.).\n",
        "\n",
        "But why is this the case? Let's take a closer look (Caspersen, n.d.; Neil G., n.d.).\n",
        "\n",
        "This is the derivative for L1 Regularization:\n",
        "  - Lasso does not work that well in a high-dimensional case\n",
        "  - Secondly, the main benefit of L1 regularization - i.e., that it results in sparse models - could be a disadvantage as well.\n",
        "  - Even when you do want variables to drop out, it is reported that L1 regularization does not work as well as\n",
        "\n",
        "#### L2 norm\n",
        "\n",
        "#### Elasticnet"
      ],
      "metadata": {
        "id": "TuuBsdA_FChc"
      }
    },
    {
      "cell_type": "markdown",
      "source": [
        "# Part1 : Tabular Data 다뤄보기\n",
        "\n",
        "## Dataset : credit.csv\n",
        "\n",
        "### LightGBM, XGBoost, Decision Tree 까지 pipeline 구성 뒤 결과 보기\n",
        "\n",
        "Decision Tree는 이상치에도 robust한 특징이 있으나 Gradient Boosting Model들의 경우 이상치에 민감하다. "
      ],
      "metadata": {
        "id": "Pu_mxOwJeLiC"
      }
    },
    {
      "cell_type": "code",
      "source": [
        "from imblearn.under_sampling import RandomUnderSampler\n",
        "from imblearn.over_sampling import RandomOverSampler\n",
        "from sklearn.model_selection import KFold\n",
        "from sklearn.metrics import *\n",
        "from lightgbm import LGBMClassifier\n",
        "from xgboost import XGBClassifier\n",
        "import warnings\n",
        "warnings.filterwarnings('ignore')\n",
        "import pandas as pd"
      ],
      "metadata": {
        "id": "oAfeSLE_gIeI"
      },
      "execution_count": 2,
      "outputs": []
    },
    {
      "cell_type": "code",
      "execution_count": 3,
      "metadata": {
        "colab": {
          "base_uri": "https://localhost:8080/",
          "height": 423
        },
        "id": "1DFkrmhDdzBB",
        "outputId": "abc3549a-45d7-4325-c39a-e5d0694e259a"
      },
      "outputs": [
        {
          "output_type": "execute_result",
          "data": {
            "text/plain": [
              "            Time         V1         V2        V3        V4        V5  \\\n",
              "0            0.0  -1.359807  -0.072781  2.536347  1.378155 -0.338321   \n",
              "1            0.0   1.191857   0.266151  0.166480  0.448154  0.060018   \n",
              "2            1.0  -1.358354  -1.340163  1.773209  0.379780 -0.503198   \n",
              "3            1.0  -0.966272  -0.185226  1.792993 -0.863291 -0.010309   \n",
              "4            2.0  -1.158233   0.877737  1.548718  0.403034 -0.407193   \n",
              "...          ...        ...        ...       ...       ...       ...   \n",
              "284802  172786.0 -11.881118  10.071785 -9.834783 -2.066656 -5.364473   \n",
              "284803  172787.0  -0.732789  -0.055080  2.035030 -0.738589  0.868229   \n",
              "284804  172788.0   1.919565  -0.301254 -3.249640 -0.557828  2.630515   \n",
              "284805  172788.0  -0.240440   0.530483  0.702510  0.689799 -0.377961   \n",
              "284806  172792.0  -0.533413  -0.189733  0.703337 -0.506271 -0.012546   \n",
              "\n",
              "              V6        V7        V8        V9  ...       V21       V22  \\\n",
              "0       0.462388  0.239599  0.098698  0.363787  ... -0.018307  0.277838   \n",
              "1      -0.082361 -0.078803  0.085102 -0.255425  ... -0.225775 -0.638672   \n",
              "2       1.800499  0.791461  0.247676 -1.514654  ...  0.247998  0.771679   \n",
              "3       1.247203  0.237609  0.377436 -1.387024  ... -0.108300  0.005274   \n",
              "4       0.095921  0.592941 -0.270533  0.817739  ... -0.009431  0.798278   \n",
              "...          ...       ...       ...       ...  ...       ...       ...   \n",
              "284802 -2.606837 -4.918215  7.305334  1.914428  ...  0.213454  0.111864   \n",
              "284803  1.058415  0.024330  0.294869  0.584800  ...  0.214205  0.924384   \n",
              "284804  3.031260 -0.296827  0.708417  0.432454  ...  0.232045  0.578229   \n",
              "284805  0.623708 -0.686180  0.679145  0.392087  ...  0.265245  0.800049   \n",
              "284806 -0.649617  1.577006 -0.414650  0.486180  ...  0.261057  0.643078   \n",
              "\n",
              "             V23       V24       V25       V26       V27       V28  Amount  \\\n",
              "0      -0.110474  0.066928  0.128539 -0.189115  0.133558 -0.021053  149.62   \n",
              "1       0.101288 -0.339846  0.167170  0.125895 -0.008983  0.014724    2.69   \n",
              "2       0.909412 -0.689281 -0.327642 -0.139097 -0.055353 -0.059752  378.66   \n",
              "3      -0.190321 -1.175575  0.647376 -0.221929  0.062723  0.061458  123.50   \n",
              "4      -0.137458  0.141267 -0.206010  0.502292  0.219422  0.215153   69.99   \n",
              "...          ...       ...       ...       ...       ...       ...     ...   \n",
              "284802  1.014480 -0.509348  1.436807  0.250034  0.943651  0.823731    0.77   \n",
              "284803  0.012463 -1.016226 -0.606624 -0.395255  0.068472 -0.053527   24.79   \n",
              "284804 -0.037501  0.640134  0.265745 -0.087371  0.004455 -0.026561   67.88   \n",
              "284805 -0.163298  0.123205 -0.569159  0.546668  0.108821  0.104533   10.00   \n",
              "284806  0.376777  0.008797 -0.473649 -0.818267 -0.002415  0.013649  217.00   \n",
              "\n",
              "        Class  \n",
              "0           0  \n",
              "1           0  \n",
              "2           0  \n",
              "3           0  \n",
              "4           0  \n",
              "...       ...  \n",
              "284802      0  \n",
              "284803      0  \n",
              "284804      0  \n",
              "284805      0  \n",
              "284806      0  \n",
              "\n",
              "[284807 rows x 31 columns]"
            ],
            "text/html": [
              "\n",
              "  <div id=\"df-4a9c5d78-45a1-4ef4-a245-c8d2dd5f7f96\">\n",
              "    <div class=\"colab-df-container\">\n",
              "      <div>\n",
              "<style scoped>\n",
              "    .dataframe tbody tr th:only-of-type {\n",
              "        vertical-align: middle;\n",
              "    }\n",
              "\n",
              "    .dataframe tbody tr th {\n",
              "        vertical-align: top;\n",
              "    }\n",
              "\n",
              "    .dataframe thead th {\n",
              "        text-align: right;\n",
              "    }\n",
              "</style>\n",
              "<table border=\"1\" class=\"dataframe\">\n",
              "  <thead>\n",
              "    <tr style=\"text-align: right;\">\n",
              "      <th></th>\n",
              "      <th>Time</th>\n",
              "      <th>V1</th>\n",
              "      <th>V2</th>\n",
              "      <th>V3</th>\n",
              "      <th>V4</th>\n",
              "      <th>V5</th>\n",
              "      <th>V6</th>\n",
              "      <th>V7</th>\n",
              "      <th>V8</th>\n",
              "      <th>V9</th>\n",
              "      <th>...</th>\n",
              "      <th>V21</th>\n",
              "      <th>V22</th>\n",
              "      <th>V23</th>\n",
              "      <th>V24</th>\n",
              "      <th>V25</th>\n",
              "      <th>V26</th>\n",
              "      <th>V27</th>\n",
              "      <th>V28</th>\n",
              "      <th>Amount</th>\n",
              "      <th>Class</th>\n",
              "    </tr>\n",
              "  </thead>\n",
              "  <tbody>\n",
              "    <tr>\n",
              "      <th>0</th>\n",
              "      <td>0.0</td>\n",
              "      <td>-1.359807</td>\n",
              "      <td>-0.072781</td>\n",
              "      <td>2.536347</td>\n",
              "      <td>1.378155</td>\n",
              "      <td>-0.338321</td>\n",
              "      <td>0.462388</td>\n",
              "      <td>0.239599</td>\n",
              "      <td>0.098698</td>\n",
              "      <td>0.363787</td>\n",
              "      <td>...</td>\n",
              "      <td>-0.018307</td>\n",
              "      <td>0.277838</td>\n",
              "      <td>-0.110474</td>\n",
              "      <td>0.066928</td>\n",
              "      <td>0.128539</td>\n",
              "      <td>-0.189115</td>\n",
              "      <td>0.133558</td>\n",
              "      <td>-0.021053</td>\n",
              "      <td>149.62</td>\n",
              "      <td>0</td>\n",
              "    </tr>\n",
              "    <tr>\n",
              "      <th>1</th>\n",
              "      <td>0.0</td>\n",
              "      <td>1.191857</td>\n",
              "      <td>0.266151</td>\n",
              "      <td>0.166480</td>\n",
              "      <td>0.448154</td>\n",
              "      <td>0.060018</td>\n",
              "      <td>-0.082361</td>\n",
              "      <td>-0.078803</td>\n",
              "      <td>0.085102</td>\n",
              "      <td>-0.255425</td>\n",
              "      <td>...</td>\n",
              "      <td>-0.225775</td>\n",
              "      <td>-0.638672</td>\n",
              "      <td>0.101288</td>\n",
              "      <td>-0.339846</td>\n",
              "      <td>0.167170</td>\n",
              "      <td>0.125895</td>\n",
              "      <td>-0.008983</td>\n",
              "      <td>0.014724</td>\n",
              "      <td>2.69</td>\n",
              "      <td>0</td>\n",
              "    </tr>\n",
              "    <tr>\n",
              "      <th>2</th>\n",
              "      <td>1.0</td>\n",
              "      <td>-1.358354</td>\n",
              "      <td>-1.340163</td>\n",
              "      <td>1.773209</td>\n",
              "      <td>0.379780</td>\n",
              "      <td>-0.503198</td>\n",
              "      <td>1.800499</td>\n",
              "      <td>0.791461</td>\n",
              "      <td>0.247676</td>\n",
              "      <td>-1.514654</td>\n",
              "      <td>...</td>\n",
              "      <td>0.247998</td>\n",
              "      <td>0.771679</td>\n",
              "      <td>0.909412</td>\n",
              "      <td>-0.689281</td>\n",
              "      <td>-0.327642</td>\n",
              "      <td>-0.139097</td>\n",
              "      <td>-0.055353</td>\n",
              "      <td>-0.059752</td>\n",
              "      <td>378.66</td>\n",
              "      <td>0</td>\n",
              "    </tr>\n",
              "    <tr>\n",
              "      <th>3</th>\n",
              "      <td>1.0</td>\n",
              "      <td>-0.966272</td>\n",
              "      <td>-0.185226</td>\n",
              "      <td>1.792993</td>\n",
              "      <td>-0.863291</td>\n",
              "      <td>-0.010309</td>\n",
              "      <td>1.247203</td>\n",
              "      <td>0.237609</td>\n",
              "      <td>0.377436</td>\n",
              "      <td>-1.387024</td>\n",
              "      <td>...</td>\n",
              "      <td>-0.108300</td>\n",
              "      <td>0.005274</td>\n",
              "      <td>-0.190321</td>\n",
              "      <td>-1.175575</td>\n",
              "      <td>0.647376</td>\n",
              "      <td>-0.221929</td>\n",
              "      <td>0.062723</td>\n",
              "      <td>0.061458</td>\n",
              "      <td>123.50</td>\n",
              "      <td>0</td>\n",
              "    </tr>\n",
              "    <tr>\n",
              "      <th>4</th>\n",
              "      <td>2.0</td>\n",
              "      <td>-1.158233</td>\n",
              "      <td>0.877737</td>\n",
              "      <td>1.548718</td>\n",
              "      <td>0.403034</td>\n",
              "      <td>-0.407193</td>\n",
              "      <td>0.095921</td>\n",
              "      <td>0.592941</td>\n",
              "      <td>-0.270533</td>\n",
              "      <td>0.817739</td>\n",
              "      <td>...</td>\n",
              "      <td>-0.009431</td>\n",
              "      <td>0.798278</td>\n",
              "      <td>-0.137458</td>\n",
              "      <td>0.141267</td>\n",
              "      <td>-0.206010</td>\n",
              "      <td>0.502292</td>\n",
              "      <td>0.219422</td>\n",
              "      <td>0.215153</td>\n",
              "      <td>69.99</td>\n",
              "      <td>0</td>\n",
              "    </tr>\n",
              "    <tr>\n",
              "      <th>...</th>\n",
              "      <td>...</td>\n",
              "      <td>...</td>\n",
              "      <td>...</td>\n",
              "      <td>...</td>\n",
              "      <td>...</td>\n",
              "      <td>...</td>\n",
              "      <td>...</td>\n",
              "      <td>...</td>\n",
              "      <td>...</td>\n",
              "      <td>...</td>\n",
              "      <td>...</td>\n",
              "      <td>...</td>\n",
              "      <td>...</td>\n",
              "      <td>...</td>\n",
              "      <td>...</td>\n",
              "      <td>...</td>\n",
              "      <td>...</td>\n",
              "      <td>...</td>\n",
              "      <td>...</td>\n",
              "      <td>...</td>\n",
              "      <td>...</td>\n",
              "    </tr>\n",
              "    <tr>\n",
              "      <th>284802</th>\n",
              "      <td>172786.0</td>\n",
              "      <td>-11.881118</td>\n",
              "      <td>10.071785</td>\n",
              "      <td>-9.834783</td>\n",
              "      <td>-2.066656</td>\n",
              "      <td>-5.364473</td>\n",
              "      <td>-2.606837</td>\n",
              "      <td>-4.918215</td>\n",
              "      <td>7.305334</td>\n",
              "      <td>1.914428</td>\n",
              "      <td>...</td>\n",
              "      <td>0.213454</td>\n",
              "      <td>0.111864</td>\n",
              "      <td>1.014480</td>\n",
              "      <td>-0.509348</td>\n",
              "      <td>1.436807</td>\n",
              "      <td>0.250034</td>\n",
              "      <td>0.943651</td>\n",
              "      <td>0.823731</td>\n",
              "      <td>0.77</td>\n",
              "      <td>0</td>\n",
              "    </tr>\n",
              "    <tr>\n",
              "      <th>284803</th>\n",
              "      <td>172787.0</td>\n",
              "      <td>-0.732789</td>\n",
              "      <td>-0.055080</td>\n",
              "      <td>2.035030</td>\n",
              "      <td>-0.738589</td>\n",
              "      <td>0.868229</td>\n",
              "      <td>1.058415</td>\n",
              "      <td>0.024330</td>\n",
              "      <td>0.294869</td>\n",
              "      <td>0.584800</td>\n",
              "      <td>...</td>\n",
              "      <td>0.214205</td>\n",
              "      <td>0.924384</td>\n",
              "      <td>0.012463</td>\n",
              "      <td>-1.016226</td>\n",
              "      <td>-0.606624</td>\n",
              "      <td>-0.395255</td>\n",
              "      <td>0.068472</td>\n",
              "      <td>-0.053527</td>\n",
              "      <td>24.79</td>\n",
              "      <td>0</td>\n",
              "    </tr>\n",
              "    <tr>\n",
              "      <th>284804</th>\n",
              "      <td>172788.0</td>\n",
              "      <td>1.919565</td>\n",
              "      <td>-0.301254</td>\n",
              "      <td>-3.249640</td>\n",
              "      <td>-0.557828</td>\n",
              "      <td>2.630515</td>\n",
              "      <td>3.031260</td>\n",
              "      <td>-0.296827</td>\n",
              "      <td>0.708417</td>\n",
              "      <td>0.432454</td>\n",
              "      <td>...</td>\n",
              "      <td>0.232045</td>\n",
              "      <td>0.578229</td>\n",
              "      <td>-0.037501</td>\n",
              "      <td>0.640134</td>\n",
              "      <td>0.265745</td>\n",
              "      <td>-0.087371</td>\n",
              "      <td>0.004455</td>\n",
              "      <td>-0.026561</td>\n",
              "      <td>67.88</td>\n",
              "      <td>0</td>\n",
              "    </tr>\n",
              "    <tr>\n",
              "      <th>284805</th>\n",
              "      <td>172788.0</td>\n",
              "      <td>-0.240440</td>\n",
              "      <td>0.530483</td>\n",
              "      <td>0.702510</td>\n",
              "      <td>0.689799</td>\n",
              "      <td>-0.377961</td>\n",
              "      <td>0.623708</td>\n",
              "      <td>-0.686180</td>\n",
              "      <td>0.679145</td>\n",
              "      <td>0.392087</td>\n",
              "      <td>...</td>\n",
              "      <td>0.265245</td>\n",
              "      <td>0.800049</td>\n",
              "      <td>-0.163298</td>\n",
              "      <td>0.123205</td>\n",
              "      <td>-0.569159</td>\n",
              "      <td>0.546668</td>\n",
              "      <td>0.108821</td>\n",
              "      <td>0.104533</td>\n",
              "      <td>10.00</td>\n",
              "      <td>0</td>\n",
              "    </tr>\n",
              "    <tr>\n",
              "      <th>284806</th>\n",
              "      <td>172792.0</td>\n",
              "      <td>-0.533413</td>\n",
              "      <td>-0.189733</td>\n",
              "      <td>0.703337</td>\n",
              "      <td>-0.506271</td>\n",
              "      <td>-0.012546</td>\n",
              "      <td>-0.649617</td>\n",
              "      <td>1.577006</td>\n",
              "      <td>-0.414650</td>\n",
              "      <td>0.486180</td>\n",
              "      <td>...</td>\n",
              "      <td>0.261057</td>\n",
              "      <td>0.643078</td>\n",
              "      <td>0.376777</td>\n",
              "      <td>0.008797</td>\n",
              "      <td>-0.473649</td>\n",
              "      <td>-0.818267</td>\n",
              "      <td>-0.002415</td>\n",
              "      <td>0.013649</td>\n",
              "      <td>217.00</td>\n",
              "      <td>0</td>\n",
              "    </tr>\n",
              "  </tbody>\n",
              "</table>\n",
              "<p>284807 rows × 31 columns</p>\n",
              "</div>\n",
              "      <button class=\"colab-df-convert\" onclick=\"convertToInteractive('df-4a9c5d78-45a1-4ef4-a245-c8d2dd5f7f96')\"\n",
              "              title=\"Convert this dataframe to an interactive table.\"\n",
              "              style=\"display:none;\">\n",
              "        \n",
              "  <svg xmlns=\"http://www.w3.org/2000/svg\" height=\"24px\"viewBox=\"0 0 24 24\"\n",
              "       width=\"24px\">\n",
              "    <path d=\"M0 0h24v24H0V0z\" fill=\"none\"/>\n",
              "    <path d=\"M18.56 5.44l.94 2.06.94-2.06 2.06-.94-2.06-.94-.94-2.06-.94 2.06-2.06.94zm-11 1L8.5 8.5l.94-2.06 2.06-.94-2.06-.94L8.5 2.5l-.94 2.06-2.06.94zm10 10l.94 2.06.94-2.06 2.06-.94-2.06-.94-.94-2.06-.94 2.06-2.06.94z\"/><path d=\"M17.41 7.96l-1.37-1.37c-.4-.4-.92-.59-1.43-.59-.52 0-1.04.2-1.43.59L10.3 9.45l-7.72 7.72c-.78.78-.78 2.05 0 2.83L4 21.41c.39.39.9.59 1.41.59.51 0 1.02-.2 1.41-.59l7.78-7.78 2.81-2.81c.8-.78.8-2.07 0-2.86zM5.41 20L4 18.59l7.72-7.72 1.47 1.35L5.41 20z\"/>\n",
              "  </svg>\n",
              "      </button>\n",
              "      \n",
              "  <style>\n",
              "    .colab-df-container {\n",
              "      display:flex;\n",
              "      flex-wrap:wrap;\n",
              "      gap: 12px;\n",
              "    }\n",
              "\n",
              "    .colab-df-convert {\n",
              "      background-color: #E8F0FE;\n",
              "      border: none;\n",
              "      border-radius: 50%;\n",
              "      cursor: pointer;\n",
              "      display: none;\n",
              "      fill: #1967D2;\n",
              "      height: 32px;\n",
              "      padding: 0 0 0 0;\n",
              "      width: 32px;\n",
              "    }\n",
              "\n",
              "    .colab-df-convert:hover {\n",
              "      background-color: #E2EBFA;\n",
              "      box-shadow: 0px 1px 2px rgba(60, 64, 67, 0.3), 0px 1px 3px 1px rgba(60, 64, 67, 0.15);\n",
              "      fill: #174EA6;\n",
              "    }\n",
              "\n",
              "    [theme=dark] .colab-df-convert {\n",
              "      background-color: #3B4455;\n",
              "      fill: #D2E3FC;\n",
              "    }\n",
              "\n",
              "    [theme=dark] .colab-df-convert:hover {\n",
              "      background-color: #434B5C;\n",
              "      box-shadow: 0px 1px 3px 1px rgba(0, 0, 0, 0.15);\n",
              "      filter: drop-shadow(0px 1px 2px rgba(0, 0, 0, 0.3));\n",
              "      fill: #FFFFFF;\n",
              "    }\n",
              "  </style>\n",
              "\n",
              "      <script>\n",
              "        const buttonEl =\n",
              "          document.querySelector('#df-4a9c5d78-45a1-4ef4-a245-c8d2dd5f7f96 button.colab-df-convert');\n",
              "        buttonEl.style.display =\n",
              "          google.colab.kernel.accessAllowed ? 'block' : 'none';\n",
              "\n",
              "        async function convertToInteractive(key) {\n",
              "          const element = document.querySelector('#df-4a9c5d78-45a1-4ef4-a245-c8d2dd5f7f96');\n",
              "          const dataTable =\n",
              "            await google.colab.kernel.invokeFunction('convertToInteractive',\n",
              "                                                     [key], {});\n",
              "          if (!dataTable) return;\n",
              "\n",
              "          const docLinkHtml = 'Like what you see? Visit the ' +\n",
              "            '<a target=\"_blank\" href=https://colab.research.google.com/notebooks/data_table.ipynb>data table notebook</a>'\n",
              "            + ' to learn more about interactive tables.';\n",
              "          element.innerHTML = '';\n",
              "          dataTable['output_type'] = 'display_data';\n",
              "          await google.colab.output.renderOutput(dataTable, element);\n",
              "          const docLink = document.createElement('div');\n",
              "          docLink.innerHTML = docLinkHtml;\n",
              "          element.appendChild(docLink);\n",
              "        }\n",
              "      </script>\n",
              "    </div>\n",
              "  </div>\n",
              "  "
            ]
          },
          "metadata": {},
          "execution_count": 3
        }
      ],
      "source": [
        "# data\n",
        "creditcard = pd.read_csv('/content/drive/MyDrive/DA/4. 모델링/creditcard.csv')\n",
        "creditcard"
      ]
    },
    {
      "cell_type": "code",
      "source": [
        "creditcard.info()"
      ],
      "metadata": {
        "colab": {
          "base_uri": "https://localhost:8080/"
        },
        "id": "t9u6P-e5cNIL",
        "outputId": "337d9c71-2a57-43e9-ca51-2b485f0be906"
      },
      "execution_count": 4,
      "outputs": [
        {
          "output_type": "stream",
          "name": "stdout",
          "text": [
            "<class 'pandas.core.frame.DataFrame'>\n",
            "RangeIndex: 284807 entries, 0 to 284806\n",
            "Data columns (total 31 columns):\n",
            " #   Column  Non-Null Count   Dtype  \n",
            "---  ------  --------------   -----  \n",
            " 0   Time    284807 non-null  float64\n",
            " 1   V1      284807 non-null  float64\n",
            " 2   V2      284807 non-null  float64\n",
            " 3   V3      284807 non-null  float64\n",
            " 4   V4      284807 non-null  float64\n",
            " 5   V5      284807 non-null  float64\n",
            " 6   V6      284807 non-null  float64\n",
            " 7   V7      284807 non-null  float64\n",
            " 8   V8      284807 non-null  float64\n",
            " 9   V9      284807 non-null  float64\n",
            " 10  V10     284807 non-null  float64\n",
            " 11  V11     284807 non-null  float64\n",
            " 12  V12     284807 non-null  float64\n",
            " 13  V13     284807 non-null  float64\n",
            " 14  V14     284807 non-null  float64\n",
            " 15  V15     284807 non-null  float64\n",
            " 16  V16     284807 non-null  float64\n",
            " 17  V17     284807 non-null  float64\n",
            " 18  V18     284807 non-null  float64\n",
            " 19  V19     284807 non-null  float64\n",
            " 20  V20     284807 non-null  float64\n",
            " 21  V21     284807 non-null  float64\n",
            " 22  V22     284807 non-null  float64\n",
            " 23  V23     284807 non-null  float64\n",
            " 24  V24     284807 non-null  float64\n",
            " 25  V25     284807 non-null  float64\n",
            " 26  V26     284807 non-null  float64\n",
            " 27  V27     284807 non-null  float64\n",
            " 28  V28     284807 non-null  float64\n",
            " 29  Amount  284807 non-null  float64\n",
            " 30  Class   284807 non-null  int64  \n",
            "dtypes: float64(30), int64(1)\n",
            "memory usage: 67.4 MB\n"
          ]
        }
      ]
    },
    {
      "cell_type": "code",
      "source": [
        "creditcard.Class.value_counts()"
      ],
      "metadata": {
        "colab": {
          "base_uri": "https://localhost:8080/"
        },
        "id": "169Dz1OTcRjw",
        "outputId": "ba97a0ed-91cd-43f1-e01e-f37dc33a5374"
      },
      "execution_count": 5,
      "outputs": [
        {
          "output_type": "execute_result",
          "data": {
            "text/plain": [
              "0    284315\n",
              "1       492\n",
              "Name: Class, dtype: int64"
            ]
          },
          "metadata": {},
          "execution_count": 5
        }
      ]
    },
    {
      "cell_type": "code",
      "source": [
        "creditcard = creditcard.drop(columns=['Time'], axis=1)"
      ],
      "metadata": {
        "id": "GlpQu25CpBq3"
      },
      "execution_count": 6,
      "outputs": []
    },
    {
      "cell_type": "code",
      "source": [
        "# smote를 적용하기\n",
        "x = creditcard.drop(columns=['Class'])\n",
        "y = creditcard['Class']\n",
        "from imblearn.over_sampling import SMOTE\n",
        "sm = SMOTE(random_state=42, n_jobs=-1)\n",
        "\n",
        "x_over, y_over = sm.fit_resample(x, y)"
      ],
      "metadata": {
        "id": "EC168p2vfEIf"
      },
      "execution_count": 7,
      "outputs": []
    },
    {
      "cell_type": "code",
      "source": [
        "y_over.value_counts()"
      ],
      "metadata": {
        "colab": {
          "base_uri": "https://localhost:8080/"
        },
        "id": "Exq7tq-KoVJT",
        "outputId": "6e964ef1-9b5e-4017-c104-ebe80695bce0"
      },
      "execution_count": 8,
      "outputs": [
        {
          "output_type": "execute_result",
          "data": {
            "text/plain": [
              "0    284315\n",
              "1    284315\n",
              "Name: Class, dtype: int64"
            ]
          },
          "metadata": {},
          "execution_count": 8
        }
      ]
    },
    {
      "cell_type": "code",
      "source": [
        "from sklearn.model_selection import train_test_split\n",
        "x_train,x_test,y_train,y_test = train_test_split(x,y,test_size=0.33,random_state=42)"
      ],
      "metadata": {
        "id": "DDsnQiA7q9J1"
      },
      "execution_count": 9,
      "outputs": []
    },
    {
      "cell_type": "code",
      "source": [
        "from sklearn.preprocessing import StandardScaler\n",
        "sc = StandardScaler()\n",
        "x_train = sc.fit_transform(x_train)\n",
        "x_test = sc.transform(x_test)"
      ],
      "metadata": {
        "id": "2CDZ2Ezjujnl"
      },
      "execution_count": 10,
      "outputs": []
    },
    {
      "cell_type": "code",
      "source": [
        "print(x_train.shape, y_train.shape)\n",
        "print(x_test.shape, y_test.shape)"
      ],
      "metadata": {
        "colab": {
          "base_uri": "https://localhost:8080/"
        },
        "id": "0Jmp7ZVsyP4G",
        "outputId": "08328eef-d3a6-41d6-c7d7-bd4ae64bb619"
      },
      "execution_count": 11,
      "outputs": [
        {
          "output_type": "stream",
          "name": "stdout",
          "text": [
            "(190820, 29) (190820,)\n",
            "(93987, 29) (93987,)\n"
          ]
        }
      ]
    },
    {
      "cell_type": "markdown",
      "source": [
        "### LGBM\n",
        "\n",
        "<font color=\"blue\">Parameter에 대한 설명</font>\n",
        "\n"
      ],
      "metadata": {
        "id": "omTb0Iy-svQl"
      }
    },
    {
      "cell_type": "code",
      "source": [
        "import lightgbm as lgb\n",
        "model = lgb.LGBMClassifier(learning_rate=0.03,max_depth=-2,random_state=42)\n",
        "model.fit(x_train,y_train,eval_set=[(x_test,y_test),(x_train,y_train)],\n",
        "          verbose=20,eval_metric='acc')"
      ],
      "metadata": {
        "colab": {
          "base_uri": "https://localhost:8080/"
        },
        "id": "anO-hIqsq9TM",
        "outputId": "f5cfea30-6071-4153-c347-cfba8f674ced"
      },
      "execution_count": 12,
      "outputs": [
        {
          "output_type": "stream",
          "name": "stdout",
          "text": [
            "[20]\ttraining's binary_logloss: 0.00246538\tvalid_0's binary_logloss: 0.00518189\n",
            "[40]\ttraining's binary_logloss: 0.00142222\tvalid_0's binary_logloss: 0.00464951\n",
            "[60]\ttraining's binary_logloss: 0.00081996\tvalid_0's binary_logloss: 0.0043705\n",
            "[80]\ttraining's binary_logloss: 0.000530105\tvalid_0's binary_logloss: 0.00418817\n",
            "[100]\ttraining's binary_logloss: 0.000352\tvalid_0's binary_logloss: 0.00409185\n"
          ]
        },
        {
          "output_type": "execute_result",
          "data": {
            "text/plain": [
              "LGBMClassifier(learning_rate=0.03, max_depth=-2, random_state=42)"
            ]
          },
          "metadata": {},
          "execution_count": 12
        }
      ]
    },
    {
      "cell_type": "code",
      "source": [
        "y_pred=model.predict(x_test)"
      ],
      "metadata": {
        "id": "SoCNcOHMq9Vj"
      },
      "execution_count": 13,
      "outputs": []
    },
    {
      "cell_type": "code",
      "source": [
        "from sklearn.metrics import accuracy_score\n",
        "accuracy=accuracy_score(y_pred, y_test)\n",
        "print('LightGBM Model accuracy score: {0:0.4f}'.format(accuracy_score(y_test, y_pred)))"
      ],
      "metadata": {
        "colab": {
          "base_uri": "https://localhost:8080/"
        },
        "id": "z_Qt1ZfPq9YO",
        "outputId": "1769b0e7-9b17-4ea9-af30-31d0c38b7549"
      },
      "execution_count": 14,
      "outputs": [
        {
          "output_type": "stream",
          "name": "stdout",
          "text": [
            "LightGBM Model accuracy score: 0.9994\n"
          ]
        }
      ]
    },
    {
      "cell_type": "code",
      "source": [
        "y_pred_train = model.predict(x_train)\n",
        "print('Training-set accuracy score: {0:0.4f}'. format(accuracy_score(y_train, y_pred_train)))"
      ],
      "metadata": {
        "colab": {
          "base_uri": "https://localhost:8080/"
        },
        "id": "s7TFT4fRsBN9",
        "outputId": "022fef91-9fbb-4015-dde9-ab6564f0a6f7"
      },
      "execution_count": 15,
      "outputs": [
        {
          "output_type": "stream",
          "name": "stdout",
          "text": [
            "Training-set accuracy score: 1.0000\n"
          ]
        }
      ]
    },
    {
      "cell_type": "code",
      "source": [
        "from sklearn.metrics import confusion_matrix\n",
        "cm = confusion_matrix(y_test, y_pred)\n",
        "print('Confusion matrix\\n\\n', cm)\n",
        "print('\\nTrue Positives(TP) = ', cm[0,0])\n",
        "print('\\nTrue Negatives(TN) = ', cm[1,1])\n",
        "print('\\nFalse Positives(FP) = ', cm[0,1])\n",
        "print('\\nFalse Negatives(FN) = ', cm[1,0])"
      ],
      "metadata": {
        "colab": {
          "base_uri": "https://localhost:8080/"
        },
        "id": "tlHZnBaSsBPz",
        "outputId": "b820d584-b2c1-4b32-c1ca-09d35ee4c4eb"
      },
      "execution_count": 16,
      "outputs": [
        {
          "output_type": "stream",
          "name": "stdout",
          "text": [
            "Confusion matrix\n",
            "\n",
            " [[93815    23]\n",
            " [   31   118]]\n",
            "\n",
            "True Positives(TP) =  93815\n",
            "\n",
            "True Negatives(TN) =  118\n",
            "\n",
            "False Positives(FP) =  23\n",
            "\n",
            "False Negatives(FN) =  31\n"
          ]
        }
      ]
    },
    {
      "cell_type": "code",
      "source": [
        "import seaborn as sns\n",
        "cm_matrix = pd.DataFrame(data=cm, columns=['Actual Positive:1', 'Actual Negative:0'], \n",
        "                                 index=['Predict Positive:1', 'Predict Negative:0'])\n",
        "\n",
        "sns.heatmap(cm_matrix, annot=True, fmt='d', cmap='YlGnBu')"
      ],
      "metadata": {
        "colab": {
          "base_uri": "https://localhost:8080/",
          "height": 283
        },
        "id": "rdRbOf6asBR5",
        "outputId": "3b4cc992-f621-4ed7-c404-998c49074589"
      },
      "execution_count": 17,
      "outputs": [
        {
          "output_type": "execute_result",
          "data": {
            "text/plain": [
              "<matplotlib.axes._subplots.AxesSubplot at 0x7f17720cd110>"
            ]
          },
          "metadata": {},
          "execution_count": 17
        },
        {
          "output_type": "display_data",
          "data": {
            "text/plain": [
              "<Figure size 432x288 with 2 Axes>"
            ],
            "image/png": "[encoded data removed]"
          },
          "metadata": {
            "needs_background": "light"
          }
        }
      ]
    },
    {
      "cell_type": "markdown",
      "source": [
        "### XGBoost"
      ],
      "metadata": {
        "id": "l9uQBY6UsrRw"
      }
    },
    {
      "cell_type": "code",
      "source": [
        "xgb = XGBClassifier()\n",
        "xgb.fit(x_train, y_train)"
      ],
      "metadata": {
        "colab": {
          "base_uri": "https://localhost:8080/"
        },
        "id": "llO9hO8EwSQe",
        "outputId": "703fb6bc-ce80-40ed-d70f-b5efdbfd6a6e"
      },
      "execution_count": 18,
      "outputs": [
        {
          "output_type": "execute_result",
          "data": {
            "text/plain": [
              "XGBClassifier()"
            ]
          },
          "metadata": {},
          "execution_count": 18
        }
      ]
    },
    {
      "cell_type": "code",
      "source": [
        "pred = xgb.predict(x_test)\n",
        "accuracy=accuracy_score(y_pred, y_test)\n",
        "print('XGBClassifier Model accuracy score: {0:0.4f}'.format(accuracy_score(y_test, y_pred)))\n",
        "cm = confusion_matrix(y_test, y_pred)\n",
        "cm_matrix = pd.DataFrame(data=cm, columns=['Actual Positive:1', 'Actual Negative:0'], \n",
        "                                 index=['Predict Positive:1', 'Predict Negative:0'])\n",
        "\n",
        "sns.heatmap(cm_matrix, annot=True, fmt='d', cmap='YlGnBu')"
      ],
      "metadata": {
        "colab": {
          "base_uri": "https://localhost:8080/",
          "height": 302
        },
        "id": "kUhwZYVxwSSd",
        "outputId": "f735d35b-e3f2-4a68-e997-acc56b5966b0"
      },
      "execution_count": 19,
      "outputs": [
        {
          "output_type": "stream",
          "name": "stdout",
          "text": [
            "XGBClassifier Model accuracy score: 0.9994\n"
          ]
        },
        {
          "output_type": "execute_result",
          "data": {
            "text/plain": [
              "<matplotlib.axes._subplots.AxesSubplot at 0x7f1771fdd550>"
            ]
          },
          "metadata": {},
          "execution_count": 19
        },
        {
          "output_type": "display_data",
          "data": {
            "text/plain": [
              "<Figure size 432x288 with 2 Axes>"
            ],
            "image/png": "[encoded data removed]"
          },
          "metadata": {
            "needs_background": "light"
          }
        }
      ]
    },
    {
      "cell_type": "markdown",
      "source": [
        "### Decision Tree Classifier"
      ],
      "metadata": {
        "id": "Bbv_cUpEuSjS"
      }
    },
    {
      "cell_type": "code",
      "source": [
        "from sklearn.tree import DecisionTreeClassifier\n",
        "classifier = DecisionTreeClassifier(criterion = 'entropy', random_state = 0)\n",
        "classifier.fit(x_train, y_train)"
      ],
      "metadata": {
        "colab": {
          "base_uri": "https://localhost:8080/"
        },
        "id": "NiHwhoo9squW",
        "outputId": "a35cbe0f-dea4-44f7-b701-24a8fe0421d9"
      },
      "execution_count": 20,
      "outputs": [
        {
          "output_type": "execute_result",
          "data": {
            "text/plain": [
              "DecisionTreeClassifier(criterion='entropy', random_state=0)"
            ]
          },
          "metadata": {},
          "execution_count": 20
        }
      ]
    },
    {
      "cell_type": "code",
      "source": [
        "y_pred = classifier.predict(x_test)\n",
        "\n",
        "accuracy=accuracy_score(y_pred, y_test)\n",
        "print('DecisionTreeClassifier Model accuracy score: {0:0.4f}'.format(accuracy_score(y_test, y_pred)))"
      ],
      "metadata": {
        "colab": {
          "base_uri": "https://localhost:8080/"
        },
        "id": "UlepHhKCtj9i",
        "outputId": "48f41864-0915-487a-bee5-f7a043f7481c"
      },
      "execution_count": 21,
      "outputs": [
        {
          "output_type": "stream",
          "name": "stdout",
          "text": [
            "DecisionTreeClassifier Model accuracy score: 0.9991\n"
          ]
        }
      ]
    },
    {
      "cell_type": "code",
      "source": [
        "cm = confusion_matrix(y_test, y_pred)\n",
        "cm_matrix = pd.DataFrame(data=cm, columns=['Actual Positive:1', 'Actual Negative:0'], \n",
        "                                 index=['Predict Positive:1', 'Predict Negative:0'])\n",
        "\n",
        "sns.heatmap(cm_matrix, annot=True, fmt='d', cmap='YlGnBu')"
      ],
      "metadata": {
        "colab": {
          "base_uri": "https://localhost:8080/",
          "height": 283
        },
        "id": "t-bg8mf-tj_D",
        "outputId": "4c6b360d-ecf5-41d8-d26c-fb0dd2014117"
      },
      "execution_count": 22,
      "outputs": [
        {
          "output_type": "execute_result",
          "data": {
            "text/plain": [
              "<matplotlib.axes._subplots.AxesSubplot at 0x7f1771a9b7d0>"
            ]
          },
          "metadata": {},
          "execution_count": 22
        },
        {
          "output_type": "display_data",
          "data": {
            "text/plain": [
              "<Figure size 432x288 with 2 Axes>"
            ],
            "image/png": "[encoded data removed]"
          },
          "metadata": {
            "needs_background": "light"
          }
        }
      ]
    }
  ]
}